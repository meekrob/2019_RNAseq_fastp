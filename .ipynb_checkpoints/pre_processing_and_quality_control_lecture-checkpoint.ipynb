{
 "cells": [
  {
   "cell_type": "markdown",
   "metadata": {},
   "source": [
    "### Jupyter notebook basics:\n",
    " * Navigate through cells with UP/DOWN arrow.\n",
    " * Code cells have brackets `[]:` on the left\n",
    " * You run them with SHIFT-ENTER.\n",
    " * The brackets change to `[*]:` while running.\n",
    " * They change to `[number]:` after finishing.\n",
    "\n",
    "# Lecture: pre-processing and quality control with fastp\n",
    "\n",
    "Here we will do a demo to run fastp on a dataset I have already downloaded. The following steps comprise a typical workflow.\n",
    "\n",
    "1. Create a working directory for this exercise.\n",
    "2. Locate data.\n",
    "3. Set up _fastp_ through a container and make an alias.\n",
    "4. Run the program on a single dataset. Inspect.\n",
    "6. Write a script to run the other datasets in a batch job (we'll do this from the terminal)"
   ]
  },
  {
   "cell_type": "markdown",
   "metadata": {},
   "source": [
    "First, let's set aside some space in the working directory. "
   ]
  },
  {
   "cell_type": "code",
   "execution_count": null,
   "metadata": {},
   "outputs": [],
   "source": [
    "# Step 1: create a workspace\n",
    "cd /scratch/summit/$USER\n",
    "mkdir DSCI512_RNAseq\n",
    "cd DSCI512_RNAseq\n",
    "pwd"
   ]
  },
  {
   "cell_type": "markdown",
   "metadata": {},
   "source": [
    "In the upper lefthand corner, go to `File` -> `Open from path...` and paste in the output from the previous command.  This will open the file browser to the current location.\n",
    "***\n",
    "Now we're going to link a data directory to this current directory. We do this because the data is very large and will take too long for a demonstration. \n",
    "The link will reside in the present directory and act like any other, except you won't be able to change its contents. It is __read-only.__"
   ]
  },
  {
   "cell_type": "code",
   "execution_count": null,
   "metadata": {},
   "outputs": [],
   "source": [
    "# make directories to use through processing\n",
    "# skipping 01_input - we will make that with a link below\n",
    "mkdir 02_output\n",
    "mkdir 03_scripts\n",
    "mkdir 04_logs\n"
   ]
  },
  {
   "cell_type": "code",
   "execution_count": null,
   "metadata": {},
   "outputs": [],
   "source": [
    "#link to the data directory (I have already downloaded everything)\n",
    "ln -sv /scratch/summit/dcking@colostate.edu/DSCI512/2019/data 01_input"
   ]
  },
  {
   "cell_type": "code",
   "execution_count": null,
   "metadata": {},
   "outputs": [],
   "source": [
    "# Look at your directory structure.\n",
    "ls -l"
   ]
  },
  {
   "cell_type": "markdown",
   "metadata": {},
   "source": [
    "***\n",
    "\n",
    "# Running fastp\n",
    "\n",
    "We will run this through a singularity container:\n",
    "\n",
    " * Load the singularity module\n",
    " * Test the container with the full command (long)\n",
    " * Make an alias for the long command\n",
    " "
   ]
  },
  {
   "cell_type": "code",
   "execution_count": null,
   "metadata": {},
   "outputs": [],
   "source": [
    "# Step 3: load the module that works with containers\n",
    "module load singularity\n",
    "module list"
   ]
  },
  {
   "cell_type": "markdown",
   "metadata": {},
   "source": [
    "&#9935; remember `module load singularity` for the script exercise below.\n",
    "\n",
    "The following command:\n",
    "`singularity exec /projects/dcking@colostate.edu/containers/Summit_RNAseq_container.sif fastp`\n",
    "\n",
    "breaks down like this:\n",
    "\n",
    " * __singularity__ - A program that reads a container.\n",
    " * __exec__ - verb: execute\n",
    " * ___[path to container image]___: The container itself, called an image.\n",
    " * __fastp__: The program you want to execute."
   ]
  },
  {
   "cell_type": "code",
   "execution_count": null,
   "metadata": {},
   "outputs": [],
   "source": [
    "# Step 4: Run fastp through the container without arguments- gives catalog of available flags\n",
    "singularity exec /projects/dcking@colostate.edu/containers/Summit_RNAseq_container.sif fastp"
   ]
  },
  {
   "cell_type": "markdown",
   "metadata": {},
   "source": [
    "__Note__: The warning <font color=orange>WARNING: Non existent 'bind path' source: '/rc_scratch'</font> is due to the configuration and is not a problem."
   ]
  },
  {
   "cell_type": "code",
   "execution_count": null,
   "metadata": {},
   "outputs": [],
   "source": [
    "# Make an alias for fastp\n",
    "fastp='singularity exec /projects/dcking@colostate.edu/containers/Summit_RNAseq_container.sif fastp'"
   ]
  },
  {
   "cell_type": "markdown",
   "metadata": {},
   "source": [
    "&#9935; remember the above command for the script.\n",
    "\n",
    "You will now be able to type _fastp_ in place of the long command."
   ]
  },
  {
   "cell_type": "code",
   "execution_count": null,
   "metadata": {},
   "outputs": [],
   "source": [
    "# Test the alias- same output.\n",
    "$fastp"
   ]
  },
  {
   "cell_type": "markdown",
   "metadata": {},
   "source": [
    "## fastp command usage\n",
    "\n",
    "__The usage message tells us for paired end data:__\n",
    "\n",
    "`-i readfile1.fastq -I readfile2.fastq`\n",
    "\n",
    "`-o outputfile1.fastq -O outputfile2.fastq`\n",
    "\n",
    "`[options]`\n",
    "\n",
    "For the options:\n",
    "\n",
    " * __-x__: remove polyX (polyAs polyCs polyGs polyTs)\n",
    " * __-p__: overrepresentation analysis\n",
    " * __--thread__: We only have 1 on jupyterhub. We can use more in our script.\n",
    " * __-h,-j__: The report filenames in html, json (javascript object notation).\n",
    "\n",
    "***\n",
    "The command below runs on the smallest dataset. The backslashes `\\` allow the command to wrap onto multiple lines."
   ]
  },
  {
   "cell_type": "code",
   "execution_count": null,
   "metadata": {},
   "outputs": [],
   "source": [
    "time $fastp -i 01_input/SRR5832199_1.fastq       -I 01_input/SRR5832199_2.fastq \\\n",
    "           -o 02_output/SRR5832199_trim_1.fastq -O 02_output/SRR5832199_trim_2.fastq \\\n",
    "           -h 02_output/SRR5832199_report.html  -j 02_output/SRR5832199_report.json\\\n",
    "           --thread 1 \\\n",
    "           -x -p \n"
   ]
  },
  {
   "cell_type": "markdown",
   "metadata": {},
   "source": [
    "It is running while you still see <font color=\"blue\">`[*]`</font> with the asterisk. Give it 1-2 minutes. Also, you'll see <font color=orange>WARNING: Non existent 'bind path' source: '/rc_scratch'</font> again until the output comes.\n",
    "\n",
    "_Check the output_ of the command by navigating to `02_output` in the file browser.\n",
    "\n",
    "***\n",
    "_Now_, let's use a variable to simplify this command:"
   ]
  },
  {
   "cell_type": "code",
   "execution_count": null,
   "metadata": {},
   "outputs": [],
   "source": [
    "SRRID=SRR5832199\n",
    "time $fastp -i 01_input/${SRRID}_1.fastq       -I 01_input/${SRRID}_2.fastq \\\n",
    "           -o 02_output/${SRRID}_trim_1.fastq -O 02_output/${SRRID}_trim_2.fastq \\\n",
    "           -h 02_output/${SRRID}_report.html  -j 02_output/${SRRID}_report.json\\\n",
    "           --thread 1 \\\n",
    "           -x -p \n"
   ]
  },
  {
   "cell_type": "markdown",
   "metadata": {},
   "source": [
    "&#9935; remember the above command for the script.\n",
    "\n",
    "Let's modify the value of `SRRID` to run the command on another dataset."
   ]
  },
  {
   "cell_type": "markdown",
   "metadata": {},
   "source": [
    "# Step 5. Scripting and running a batch job\n",
    "\n",
    "Now we're going to set up the full version of this. \n",
    "\n",
    "1. Go back to `File`--> `New` --> `Terminal`. This will open a web-based terminal in a new browser tab.\n",
    "2. Do `cd /scratch/summit/$USER/DSCI512_RNAseq` (your current directory).\n",
    "3. Using nano, copy the template script below into a new file called `fastp.sbatch`. Complete the unfilled sections using the commands marked with the tool &#9935; above."
   ]
  },
  {
   "cell_type": "markdown",
   "metadata": {},
   "source": [
    "## A template SBATCH script\n",
    "\n",
    "```bash\n",
    "#!/usr/bin/bash\n",
    "#SBATCH --nodes=1\n",
    "#SBATCH --ntasks=1\n",
    "#SBATCH --time=0:05:00\n",
    "#SBATCH --qos=normal\n",
    "#SBATCH --partition=shas\n",
    "#SBATCH --output=04_logs/fastp.%j.out\n",
    "\n",
    "#\n",
    "# include the construction symbol statements to complete the following\n",
    "#\n",
    "\n",
    "# 1)setup:\n",
    "#    a) Load modules\n",
    "#    b) make shortcut\n",
    "\n",
    "# 2) add IDs to SRRID like\n",
    "SRRs=\"SRR5832188 SRR5832189 SRR5832190\"\n",
    "\n",
    "# 3) run the command in a loop for each file prefix\n",
    "for SRRID in $SRRs\n",
    "do\n",
    "  # paste fastp command here\n",
    "done\n",
    "```"
   ]
  },
  {
   "cell_type": "markdown",
   "metadata": {},
   "source": [
    "***\n",
    "\n",
    "### SBATCH directives\n",
    "\n",
    "* must be immediately beneath the `#!/usr/bin/bash`\n",
    "* __--nodes:__ Number of compute nodes. We only use 1.\n",
    "* __--ntasks:__ Number of cores (CPUs/threads). This can be up to 24. The requested value is set to `$SLURM_NTASKS` in the script.\n",
    "* __--time:__ Requested amount of time. Defaults to 1 hour.\n",
    "* __--qos:__ quality of service. See rc help for the breakdown.\n",
    "* __--partition:__ Such as shas (haswell). Others are hi memory nodes, GPU, and testing nodes.\n",
    "* __--output:__ The format of the output file. %j refers to the job id and is set at run time.\n",
    "\n",
    "### Submitting the job\n",
    "\n",
    "```sbatch --reservation number fastp.sbatch```\n",
    "\n",
    "### checking the job status\n",
    "\n",
    "```squeue -u $USER```\n",
    "\n",
    "***\n",
    "\n",
    "## My finished SBATCH script\n",
    "\n",
    "```bash\n",
    "#!/usr/bin/bash\n",
    "#SBATCH --nodes=1\n",
    "#SBATCH --ntasks=6\n",
    "#SBATCH --time=0:20:00\n",
    "#SBATCH --qos=normal\n",
    "#SBATCH --partition=shas\n",
    "#SBATCH --output=04_logs/fastp.%j.out\n",
    "\n",
    "\n",
    "# 1) setup:\n",
    "#  a) Load modules\n",
    "#  b) make alias\n",
    "module load singularity\n",
    "\n",
    "# 'alias' doesn't work in scripts. Here's an alternative syntax to 'alias':\n",
    "fastp='singularity exec /projects/dcking@colostate.edu/containers/Summit_RNAseq_container.sif fastp'\n",
    "# use like:\n",
    "#  $fastp arg1 arg2 ...\n",
    "\n",
    "\n",
    "# 2) figure out the non-redundant list of IDs to loop over\n",
    "SRRs=\"SRR5832182 SRR5832183 SRR5832184\"\n",
    "\n",
    "\n",
    "# 3) run the command in a loop for each file\n",
    "for SRRID in $SRRs\n",
    "do\n",
    "    time $fastp -i 01_input/${SRRID}_1.fastq       -I 01_input/${SRRID}_2.fastq \\\n",
    "           -o 02_output/${SRRID}_trim_1.fastq -O 02_output/${SRRID}_trim_2.fastq \\\n",
    "           -h 02_output/${SRRID}_report.html  -j 02_output/${SRRID}_report.json\\\n",
    "           --thread ${SLURM_NTASKS} \\\n",
    "           -x -p  \n",
    "done\n",
    "```"
   ]
  },
  {
   "cell_type": "markdown",
   "metadata": {},
   "source": [
    "***\n",
    "_More advanced. But doesn't require loop syntax and is faster._\n",
    "\n",
    "## My ARRAY SBATCH script\n",
    "\n",
    "SLURM will submit these jobs in parallel, and so I requested fewer resources per job. You just have to make sure to match the array parameter to the way the files are named.\n",
    "\n",
    "They are SRR5832182 through SRR5832199. So I'll set the array to go from 82 to 99, and just attach it to the rest.\n",
    "\n",
    "Run like:\n",
    "\n",
    "`sbatch -a 82-99 fastp_array.sbatch`\n",
    "\n",
    "\n",
    "***\n",
    "```bash\n",
    "#!/usr/bin/bash\n",
    "#SBATCH --nodes=1\n",
    "#SBATCH --ntasks=2\n",
    "#SBATCH --time=0:03:00\n",
    "#SBATCH --qos=normal\n",
    "#SBATCH --partition=shas\n",
    "#SBATCH --output=04_logs/fastp.%j.%a.out\n",
    "\n",
    "# run like\n",
    "# sbatch -a 82-99 fastp_array.sbatch\n",
    "\n",
    "# 1) setup:\n",
    "#  a) Load modules\n",
    "#  b) make alias\n",
    "module load singularity\n",
    "\n",
    "# 'alias' doesn't work in scripts. Here's an alternative syntax to 'alias':\n",
    "fastp='singularity exec /projects/dcking@colostate.edu/containers/Summit_RNAseq_container.sif fastp'\n",
    "# use like:\n",
    "#  $fastp arg1 arg2 ...\n",
    "\n",
    "\n",
    "# 3) Figure out the file root from the job array id\n",
    "# This script must be run like:\n",
    "#  sbatch --array=82-99 fastp_array.sbatch\n",
    "# in order for the IDs to match up to the filenames properly.\n",
    "\n",
    "SRRID=\"SRR58321${SLURM_ARRAY_TASK_ID}\"\n",
    "\n",
    "time $fastp -i 01_input/${SRRID}_1.fastq -I 01_input/${SRRID}_2.fastq \\\n",
    "    -o 02_output/${SRRID}_trim_1.fastq   -O 02_output/${SRRID}_trim_2.fastq \\\n",
    "    -h 02_output/${SRRID}_report.html    -j 02_output/${SRRID}_report.json\\\n",
    "    --thread ${SLURM_NTASKS} \\\n",
    "    -x -p  \n",
    "\n",
    "```"
   ]
  },
  {
   "cell_type": "code",
   "execution_count": null,
   "metadata": {},
   "outputs": [],
   "source": []
  }
 ],
 "metadata": {
  "kernelspec": {
   "display_name": "Bash",
   "language": "bash",
   "name": "bash"
  },
  "language_info": {
   "codemirror_mode": "shell",
   "file_extension": ".sh",
   "mimetype": "text/x-sh",
   "name": "bash"
  }
 },
 "nbformat": 4,
 "nbformat_minor": 4
}
