{
 "cells": [
  {
   "cell_type": "markdown",
   "metadata": {},
   "source": [
    "<img src=\"pipeline_slide.png\" width=900/><br/>\n",
    "\n",
    "## Raw read structure\n",
    "\n",
    "A paired-end read is a PCR-amplified fragment enclosed inside adapters. The whole fragment is sequenced.\n",
    "\n",
    "<img src=\"paired_end_read_diagram.png\"/><br/>\n",
    "\n",
    "## Raw Sequence Quality\n",
    "\n",
    "__Phred quality score__ (Q) was originally developed by the program Phred to measure base-calling reliability from Sanger sequencing chromatograms.\n",
    "\n",
    "$Q = -10 * log_{10}(P)$ where P is the probability of erroneous base calling.\n",
    "\n",
    "__For example:__\n",
    "* Q20: $-10 * log_{10}(1/100) = 20$\n",
    "* Q30: $-10 * log_{10}(1/1000) = 30$\n",
    "* Q40: $-10 * log_{10}(1/10^4) = 40$\n",
    "* Q50: $-10 * log_{10}(10^{-5}) = 50$\n",
    "* Q60: $-10 * log_{10}(10^{-6}) = 60$\n",
    "\n",
    "__Quality scoring range:__\n",
    "\n",
    " * $< 20$: poor quality\n",
    " * $20 - 30$: moderate quality\n",
    " * $> 30$: high quality\n",
    " \n",
    "__Example fastq read__\n",
    "\n",
    "``\n",
    "@SRR5832182.1 HISEQ-MFG:180:hw5f3bcxx:2:1101:1205:2195 length=101\n",
    "CGCGAACAGTCCTCAAATCGGGGATCGAAAAAGGATTCGTGGAATCACAGTATTTTTATGTATAATTTCTTCCACCGAAGAGGGAGCAACAAGAGAGCGGC\n",
    "+SRR5832182.1 HISEQ-MFG:180:hw5f3bcxx:2:1101:1205:2195 length=101\n",
    "DDDDDHHIIIIIIIIIIIIIIIIIIIIIIIIIIIIIIIIGHHHIEHIIIIIIIIIIFHIIIHIIIIIHIIIIIIIIIIIIIIIIGHHIIIIIHIIHIIIIH\n",
    "``\n",
    "\n",
    "Each read (in fastq format) has four lines:\n",
    " 1. ID\n",
    " 2. Base call (the sequence)\n",
    " 3. ID again for some reason (or just a plus sign)\n",
    " 4. Quality symbol for each base call\n",
    " \n",
    "## Quality symbols for Q: 32-40 \n",
    "\n",
    "| symbol | ascii value | Q | \n",
    "|--------|-------------|---|\n",
    "| A | 65 | 32 |\n",
    "| B | 66 | 33 |\n",
    "| C | 67 | 34 |\n",
    "| D | 68 | 35 |\n",
    "| E | 69 | 36 |\n",
    "| F | 70 | 37 |\n",
    "| G | 71 | 38 |\n",
    "| H | 72 | 39 |\n",
    "| I | 73 | 40 |\n",
    " \n",
    "Link for full(er) table: https://support.illumina.com/help/BaseSpace_OLH_009008/Content/Source/Informatics/BS/QualityScoreEncoding_swBS.htm\n",
    "\n",
    "Is $ascii -33$, going all the way to 126 (symbol='~', Q=93). See http://www.asciitable.com/ if you're interested in how this works.\n",
    "\n",
    "## Quality scores for a sequencing run\n",
    "\n",
    "<img src=\"RNA_seq_quality_fig1.png\" width=800px align=left/><br/>\n",
    "__Li et al. Fig 1. a)__ Parallel boxplot showing “per nucleotide quality score.” All reads are overlaid together, and then summarize Phred quality score (Y-axis) for each position of read from 5′ to 3′ end (X-axis). __(b)__ “per sequence quality score” distribution. For each read, “per sequence quality score” is calculated as the average Phred quality score (X-axis) across all nucleotides\n",
    "\n",
    "\n",
    "## Nucleotide Composition and GC Content\n",
    "\n",
    "<img src=\"RNA_seq_quality_fig2.png\" width=800px align=left/><br/>\n",
    "\n",
    "__Li et al. Fig 2. (a)__ Diagram showing nucleotide composition bias at the beginning of reads. All reads are overlaid together, and then calculate nucleotide frequency (Y-axis) for each position of read (X-axis). Four nucleotides were indicated using different colors. __(b)__ “per sequence GC content” distribution. This normal distribution should be centered at the GC content of your coding genome (exons only). A shift represents a bias or contamination.\n",
    "\n",
    "# fastp \n",
    "\n",
    "__Reference__: https://watermark.silverchair.com/bty560.pdf fastp: an ultra-fast all-in-one FASTQ preprocessor __Bioinformatics,__ 34, 2018, i884–i890\n",
    "\n",
    "__Today's reading__: http://rna.colostate.edu/2019/lib/exe/fetch.php?media=assignments:li_etal_qualitycontrol_2015.pdf\n",
    "\n",
    "## Benefits of fastp over other tools\n",
    "\n",
    "* Trimming and Quality in one\n",
    "* Faster implementation\n",
    "* Automatically finds adapters\n",
    "* Interactive HTML output\n",
    "\n",
    "## Adapter identification\n",
    "\n",
    "\n",
    "<img src=\"Adapter_readout_tophalf.png\" width=\"900\"/><br/>\n",
    "\n",
    "...\n",
    "\n",
    "<img src=\"bottom_half.png\" width=\"900\"/><br/>\n",
    "\n",
    "___Courtesy of Rob Williams___\n",
    "\n",
    "## PCR duplication\n",
    "\n",
    "<img src=\"duplication.png\" width=\"700\"/><br/>\n",
    "\n",
    "___Courtesy of Rob Williams___\n",
    "\n",
    "\n",
    "## Base content filtering\n",
    "\n",
    "<img src=\"fastp_fig3.png\" width=\"900\"/><br/>\n",
    "\n",
    "___fastp paper figure 3___\n",
    "\n",
    "***"
   ]
  },
  {
   "cell_type": "markdown",
   "metadata": {},
   "source": [
    "# Let's process some data\n",
    "\n",
    "## Where are we right now?\n",
    " * We're already on summit\n",
    " * We're already running a job (a 12 hour interactive job that we _spawned_).\n",
    " * That means we're on a compute node, and it's OK to run a full job (we're usually on a login or compile node).\n",
    " * Counts against fairshare. So we need to stop the server when we're done.\n",
    " * We're in the jupyterhub web-based interface instead of the basic terminal interface.\n",
    "     * File menu, Edit menu, etc. not part of your OS, but inside your web browser.\n",
    "     * Open tabs are on the right - these are notebooks, consoles, and other (including terminals).\n",
    "     * Icons below files menu:\n",
    "         * Plus sign - Launcher\n",
    "         * Dark Folder with light plus sign - new Folder\n",
    "         * Up-arrow with underline - upload file\n",
    "         * Circular arrow - refresh file list\n",
    "     * next row of icons: current location: `[folder icon]/.../parent directory/current directory`\n",
    "     * file browser - __Name__ __Last Modified__\n",
    "         \n",
    "\n",
    "## Workflow\n",
    "\n",
    "1. Create a working directory for this exercise.\n",
    "2. Link to data (I already downloaded it - very large).\n",
    "3. Set up _fastp_ through a container and make an alias.\n",
    "4. Run the program on a single dataset. Inspect.\n",
    "6. Write a script to run the other datasets in a batch job (we'll do this from the terminal)\n",
    "\n",
    "First, let's set aside some space in the working directory. "
   ]
  },
  {
   "cell_type": "code",
   "execution_count": null,
   "metadata": {},
   "outputs": [],
   "source": [
    "# Step 1: create a workspace\n",
    "cd /scratch/summit/$USER\n",
    "mkdir DSCI512_RNAseq_19_19_11\n",
    "cd DSCI512_RNAseq_19_19_11"
   ]
  },
  {
   "cell_type": "code",
   "execution_count": null,
   "metadata": {},
   "outputs": [],
   "source": [
    "pwd"
   ]
  },
  {
   "cell_type": "markdown",
   "metadata": {},
   "source": [
    "In the upper lefthand corner, go to File -> `Open from path...` and paste in the output from the previous command.  \n",
    "\n",
    "This will open the file browser to the current location.\n",
    "***\n",
    "Now we're going to link a data directory to this current directory. We do this because the data is very large and will take too long for a demonstration. \n",
    "The link will reside in the present directory and act like any other, except you won't be able to change its contents. It is __read-only.__"
   ]
  },
  {
   "cell_type": "code",
   "execution_count": null,
   "metadata": {},
   "outputs": [],
   "source": [
    "# make directories to use through processing\n",
    "# skipping 01_input - we will make that with a link below\n",
    "mkdir 02_output\n",
    "mkdir 03_scripts\n",
    "mkdir 04_logs"
   ]
  },
  {
   "cell_type": "code",
   "execution_count": null,
   "metadata": {},
   "outputs": [],
   "source": [
    "#link to the data directory (I have already downloaded everything)\n",
    "ln -sv /scratch/summit/dcking@colostate.edu/DSCI512/2019/data 01_input"
   ]
  },
  {
   "cell_type": "code",
   "execution_count": null,
   "metadata": {},
   "outputs": [],
   "source": [
    "# Look at your directory structure.\n",
    "ls -lh"
   ]
  },
  {
   "cell_type": "markdown",
   "metadata": {},
   "source": [
    "\n",
    "&#128270; Navigate around the file browser on the left\n",
    " * doubleclick a link to descend\n",
    " * go to a parent directory by clicking the name after the 3 dots in the location field: `folder_icon/.../parent_directory/current_directory`\n",
    "\n",
    "#### Breakdown of data in 01_input/\n",
    "\n",
    "***\n",
    "__Experimental design__\n",
    "\n",
    "|IDs (3 reps each)    | Temperature | Food Source |\n",
    "|---------------------|-------------|-------------|\n",
    "|SRR58321<b>82</b>-SRR58321<b>84</b>| 15°C        |  _E. coli_  |\n",
    "|SRR58321<b>85</b>-SRR58321<b>87</b>| 20°C        |  _E. coli_  |\n",
    "|SRR58321<b>88</b>-SRR58321<b>90</b>| 25°C        |  _E. coli_  |\n",
    "|SRR58321<b>91</b>-SRR58321<b>93</b>| 15°C        |  _B. subtilis_  |\n",
    "|SRR58321<b>94</b>-SRR58321<b>96</b>| 20°C        |  _B. subtilis_  |\n",
    "|SRR58321<b>97</b>-SRR58321<b>99</b>| 25°C        |  _B. subtilis_  |\n",
    "\n",
    "***\n",
    "\n",
    "* 6 conditions\n",
    "* 3 reps each\n",
    "* Each replicate is paired-end. Thus, _SRR5832182_ is represented by: \n",
    "  * SRR58321<b>82<i>_1</i></b>.fastq - \"left\" end reads.\n",
    "  * SRR58321<b>82<i>_2</i></b>.fastq - \"right\" end reads.\n",
    "* 36 total files\n",
    "\n",
    "# Running fastp\n",
    "\n",
    "We will run this through a singularity container:\n",
    "\n",
    " * Load the singularity module\n",
    " * Test the container with the full command (long)\n",
    " * Make an alias for the long command\n",
    "\n",
    "\n",
    "\n",
    "\n"
   ]
  },
  {
   "cell_type": "code",
   "execution_count": null,
   "metadata": {},
   "outputs": [],
   "source": [
    "# Step 3: load the module that works with containers\n",
    "module load singularity\n",
    "module list"
   ]
  },
  {
   "cell_type": "markdown",
   "metadata": {},
   "source": [
    "The following command:\n",
    "`singularity exec /projects/dcking@colostate.edu/containers/Summit_RNAseq_container.sif fastp`\n",
    " * __singularity__ - A program that reads a container.\n",
    " * __exec__ - verb: execute\n",
    " * ___[path to container image]___: The container itself, called an image.\n",
    " * __fastp__: The program you want to execute."
   ]
  },
  {
   "cell_type": "code",
   "execution_count": null,
   "metadata": {},
   "outputs": [],
   "source": [
    "# Step 4: Run fastp through the container without arguments- gives catalog of available flags\n",
    "singularity exec /projects/dcking@colostate.edu/containers/Summit_RNAseq_container.sif fastp"
   ]
  },
  {
   "cell_type": "markdown",
   "metadata": {},
   "source": [
    "___This is OK --->___ <font color=orange>WARNING: Non existent 'bind path' source: '/rc_scratch'</font> <--- ___It's just part of the configuration.___"
   ]
  },
  {
   "cell_type": "code",
   "execution_count": null,
   "metadata": {},
   "outputs": [],
   "source": [
    "# Make a shortcut for fastp\n",
    "fastp='singularity exec /projects/dcking@colostate.edu/containers/Summit_RNAseq_container.sif fastp'"
   ]
  },
  {
   "cell_type": "markdown",
   "metadata": {},
   "source": [
    "You will now be able to type _fastp_ in place of the long command."
   ]
  },
  {
   "cell_type": "code",
   "execution_count": null,
   "metadata": {},
   "outputs": [],
   "source": [
    "# Test the alias- same output.\n",
    "$fastp"
   ]
  },
  {
   "cell_type": "code",
   "execution_count": null,
   "metadata": {},
   "outputs": [],
   "source": [
    "wc -l 01_input/SRR5832182_1.fastq 01_input/SRR5832182_2.fastq"
   ]
  },
  {
   "cell_type": "markdown",
   "metadata": {},
   "source": [
    "## fastp command usage\n",
    "\n",
    "__The usage message tells us for _paired end_ data:__\n",
    "\n",
    "`-i readfile_1.fastq -I readfile_2.fastq`\n",
    "\n",
    "`-o outputfile_1.fastq -O outputfile_2.fastq`\n",
    "\n",
    "`[options]`\n",
    "\n",
    "For the options:\n",
    "\n",
    " * __-x__: remove polyX (polyAs polyCs polyGs polyTs)\n",
    " * __-p__: overrepresentation analysis\n",
    " * __--thread__: We only have 1 on jupyterhub. We can use more in our script.\n",
    " * __-h,-j__: The report filenames in html, json (javascript object notation).\n",
    "\n",
    "***\n",
    "### Command version 1:"
   ]
  },
  {
   "cell_type": "code",
   "execution_count": null,
   "metadata": {},
   "outputs": [],
   "source": [
    "time $fastp -i 01_input/SRR5832199_1.fastq       -I 01_input/SRR5832199_2.fastq \\\n",
    "           -o 02_output/SRR5832199_trim_1.fastq -O 02_output/SRR5832199_trim_2.fastq \\\n",
    "           -h 02_output/SRR5832199_report.html  -j 02_output/SRR5832199_report.json\\\n",
    "           --thread 1 \\\n",
    "           -g -x -p \n"
   ]
  },
  {
   "cell_type": "markdown",
   "metadata": {},
   "source": [
    "___This is OK --->___ <font color=orange>WARNING: Non existent 'bind path' source: '/rc_scratch'</font> <--- ___It's just part of the configuration.___\n",
    "\n",
    "&#9203; __Still waiting?__ It is running while you still see <font color=\"blue\">`[*]`</font> with the asterisk. Give it about a minute.\n",
    "\n",
    "\n",
    "### Check the output ### \n",
    "Navigate to __02_output__ in the file browser and double-click _SRR5832199_report.html_\n",
    "\n",
    "### Run a different file\n",
    "Now if we want to process a different expirement, we have to ___change our arguments in 6 places!!!___\n",
    "\n",
    "Let's use a variable to make it easier to re-run the program on new data.\n",
    "\n",
    "## Command version 2:"
   ]
  },
  {
   "cell_type": "code",
   "execution_count": null,
   "metadata": {},
   "outputs": [],
   "source": [
    "SRRID=SRR5832198\n",
    "time $fastp -i 01_input/${SRRID}_1.fastq       -I 01_input/${SRRID}_2.fastq \\\n",
    "           -o 02_output/${SRRID}_trim_1.fastq -O 02_output/${SRRID}_trim_2.fastq \\\n",
    "           -h 02_output/${SRRID}_report.html  -j 02_output/${SRRID}_report.json\\\n",
    "           --thread 1 \\\n",
    "           -g -x -p \n"
   ]
  },
  {
   "cell_type": "markdown",
   "metadata": {},
   "source": [
    "Modify the value of `SRRID` to run the command on another dataset."
   ]
  },
  {
   "cell_type": "markdown",
   "metadata": {},
   "source": [
    "# Step 5. Scripting and running a batch job\n",
    "\n",
    "Now we're going to set up the full version of this. \n",
    "\n",
    "1. Go back to your file browser and click New->Terminal. This will open a web-based terminal in a new browser tab.\n",
    "2. Do `cd /scratch/summit/$USER/DSCI512_RNAseq_19_19_11`\n",
    "3. Using _nano_, copy the template script below into a new file called `fastp.sbatch`.\n",
    "4. You will submit the job using `sbatch --reservation=csuhpc_nov19 fastp.sbatch`\n",
    "5. You can check your job status with: `squeue -u $USER` and/or `sacct`"
   ]
  },
  {
   "cell_type": "markdown",
   "metadata": {},
   "source": [
    "## A template SBATCH script\n",
    "\n",
    "[Not a code cell. Paste into _nano_ and modify]\n",
    "***\n",
    "```bash\n",
    "#!/usr/bin/bash\n",
    "#SBATCH --nodes=1\n",
    "#SBATCH --ntasks=6\n",
    "#SBATCH --time=0:10:00\n",
    "#SBATCH --qos=normal\n",
    "#SBATCH --partition=shas\n",
    "#SBATCH --output=04_output/fastp.%j.out\n",
    "\n",
    "\n",
    "# 1) Load module\n",
    "\n",
    "# 2) Make shortcut\n",
    "\n",
    "# 3) run the command in a loop for a set of files\n",
    "SRRIDs=\"SRR5832182 SRR5832183\"\n",
    "\n",
    "for SRRID in $SRRIDs\n",
    "do\n",
    "    # paste Command 2 from above\n",
    "done\n",
    "```\n",
    "***"
   ]
  },
  {
   "cell_type": "markdown",
   "metadata": {},
   "source": [
    "## My finished SBATCH script\n",
    "\n",
    "[Not a code cell. Paste into _nano_ and modify]\n",
    "\n",
    "***\n",
    "```bash\n",
    "#!/usr/bin/bash\n",
    "#SBATCH --nodes=1\n",
    "#SBATCH --ntasks=6\n",
    "#SBATCH --time=0:10:00\n",
    "#SBATCH --qos=normal\n",
    "#SBATCH --partition=shas\n",
    "#SBATCH --output=04_output/fastp.%j.out\n",
    "\n",
    "# 1) Load module:\n",
    "module load singularity\n",
    "\n",
    "# 2) Make shortcut\n",
    "fastp='singularity exec /projects/dcking@colostate.edu/containers/Summit_RNAseq_container.sif fastp'\n",
    "\n",
    "# 3) run the command in a loop for a set of files\n",
    "SRRIDs=\"SRR5832182 SRR5832183\"\n",
    "\n",
    "for SRRID in $SRRIDs\n",
    "do\n",
    "    time $fastp -i 01_input/${SRRID}_1.fastq       -I 01_input/${SRRID}_2.fastq \\\n",
    "           -o 02_output/${SRRID}_trim_1.fastq -O 02_output/${SRRID}_trim_2.fastq \\\n",
    "           -h 02_output/${SRRID}_report.html  -j 02_output/${SRRID}_report.json\\\n",
    "           --thread ${SLURM_NTASKS} \\\n",
    "           -g -x -p  \n",
    "done\n",
    "```\n",
    "***"
   ]
  },
  {
   "cell_type": "markdown",
   "metadata": {},
   "source": [
    "## My ARRAY SBATCH script\n",
    "\n",
    "[Not a code cell. Paste into _nano_ and modify]\n",
    "\n",
    "SLURM will submit these jobs in parallel, and so I requested fewer resources per job. You just have to make sure to match the array parameter to the way the files are named.\n",
    "\n",
    "They are SRR5832182 through SRR5832199. So I'll set the array to go from 82 to 99, and just attach it to the rest.\n",
    "\n",
    "Run like:\n",
    "\n",
    "`sbatch --reservation=csuhpc_nov19 -a 82-99 fastp_array.sbatch`\n",
    "\n",
    "***\n",
    "```bash\n",
    "#!/usr/bin/bash\n",
    "#SBATCH --nodes=1\n",
    "#SBATCH --ntasks=2\n",
    "#SBATCH --time=0:03:00\n",
    "#SBATCH --qos=normal\n",
    "#SBATCH --partition=shas\n",
    "\n",
    "# run like\n",
    "# sbatch -a 82-99 fastp_array.sbatch\n",
    "\n",
    "# 1) setup:\n",
    "#  a) Load modules\n",
    "#  b) make alias\n",
    "module load singularity\n",
    "\n",
    "# 'alias' doesn't work in scripts. Here's an alternative syntax to 'alias':\n",
    "fastp='singularity exec /projects/dcking@colostate.edu/containers/Summit_RNAseq_container.sif fastp'\n",
    "# use like:\n",
    "#  $fastp arg1 arg2 ...\n",
    "\n",
    "\n",
    "# 3) Figure out the file root from the job array id\n",
    "# This script must be run like:\n",
    "#  sbatch --array=82-99 fastp_array.sbatch\n",
    "# in order for the IDs to match up to the filenames properly.\n",
    "\n",
    "SRRID=\"SRR58321${SLURM_ARRAY_TASK_ID}\"\n",
    "\n",
    "time $fastp -i 01_input/${SRRID}_1.fastq -I 01_input/${SRRID}_2.fastq \\\n",
    "    -o 02_output/${SRRID}_trim_1.fastq   -O 02_output/${SRRID}_trim_2.fastq \\\n",
    "    -h 02_output/${SRRID}_report.html    -j 02_output/${SRRID}_report.json\\\n",
    "    --thread ${SLURM_NTASKS} \\\n",
    "    -g -x -p  \n",
    "\n",
    "```\n",
    "***"
   ]
  },
  {
   "cell_type": "markdown",
   "metadata": {},
   "source": [
    "# Finishing up\n",
    "\n",
    "We need to:\n",
    "* Stop the running notebook and terminal\n",
    "* Shut down the server session (the interactive session).\n",
    "* Log out\n",
    "\n",
    "* Click on the ___stop button___ on the left (light grey square inside dark gray circle), hit the X's next to the listed things.\n",
    "* Go to File->Hub Control Panel. Click the red button \"Stop my server\".\n",
    "* Click the ___Logout button___ on the same page."
   ]
  }
 ],
 "metadata": {
  "kernelspec": {
   "display_name": "Bash",
   "language": "bash",
   "name": "bash"
  },
  "language_info": {
   "codemirror_mode": "shell",
   "file_extension": ".sh",
   "mimetype": "text/x-sh",
   "name": "bash"
  }
 },
 "nbformat": 4,
 "nbformat_minor": 4
}
